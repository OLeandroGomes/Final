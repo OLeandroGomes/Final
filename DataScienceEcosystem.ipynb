{
  "metadata": {
    "kernelspec": {
      "name": "python",
      "display_name": "Python (Pyodide)",
      "language": "python"
    },
    "language_info": {
      "codemirror_mode": {
        "name": "python",
        "version": 3
      },
      "file_extension": ".py",
      "mimetype": "text/x-python",
      "name": "python",
      "nbconvert_exporter": "python",
      "pygments_lexer": "ipython3",
      "version": "3.8"
    }
  },
  "nbformat_minor": 5,
  "nbformat": 4,
  "cells": [
    {
      "id": "f271cecd-0af7-4e7a-b721-9d64892a2bd8",
      "cell_type": "markdown",
      "source": "# Data Science Tools and Ecosystem",
      "metadata": {}
    },
    {
      "id": "9c45b2d2-99a9-452b-90ed-03e389d3c49b",
      "cell_type": "markdown",
      "source": "In this notebook, Data Science Tools and Ecosystem are summarized.",
      "metadata": {}
    },
    {
      "id": "6e08812e-248f-409b-ad54-79569b45fa5f",
      "cell_type": "markdown",
      "source": "**Objectives:**",
      "metadata": {}
    },
    {
      "id": "9117f5eb-62c4-4d1d-b709-e16412cce339",
      "cell_type": "markdown",
      "source": "* List some of the commonly used libraries used by Data Scientists\n* List some of the commonly used libraries used by Data Scientists\n* List some Data Science Tools\n* Give examples of evaluating arithmetic expressions in Python\n",
      "metadata": {}
    },
    {
      "id": "326f533c-849e-4cad-9eae-015e0fca8fc8",
      "cell_type": "markdown",
      "source": "Some of the popular languages that Data Scientists use are:",
      "metadata": {}
    },
    {
      "id": "f637c28d-ae87-4193-ad61-3f087d37389c",
      "cell_type": "markdown",
      "source": "1. Python\n2. R\n3. SQL",
      "metadata": {}
    },
    {
      "id": "878e497e-1636-47d1-b9b2-844af71d7f6b",
      "cell_type": "markdown",
      "source": "Some of the commonly used libraries used by Data Scientists include:",
      "metadata": {}
    },
    {
      "id": "cb001416-4f7a-4913-9e42-52548cbc8fb1",
      "cell_type": "markdown",
      "source": "1. ggplot2\n2. caret\n3. NumPy",
      "metadata": {}
    },
    {
      "id": "9594818b-5df7-4eec-b7f8-b1d9c5b01f49",
      "cell_type": "markdown",
      "source": "|  Data Science Tools |\n| -------------|\n|JupyterNotebook|\n|GoogleCoLab|\n|VS Code|\n",
      "metadata": {}
    },
    {
      "id": "5af2236d-133e-427b-96fe-b5371da85241",
      "cell_type": "markdown",
      "source": "### Below are a few examples of evaluating arithmetic expressions in Python",
      "metadata": {}
    },
    {
      "id": "701a29c5-fa88-4450-815e-3a711e4b69b5",
      "cell_type": "markdown",
      "source": "This a simple arithmetic expression to mutiply then add integers",
      "metadata": {}
    },
    {
      "id": "7cedf9ed-bc89-4481-b8cb-c27fc3c2ba86",
      "cell_type": "code",
      "source": "(3*4)+5",
      "metadata": {
        "trusted": true
      },
      "outputs": [
        {
          "execution_count": 10,
          "output_type": "execute_result",
          "data": {
            "text/plain": "17"
          },
          "metadata": {}
        }
      ],
      "execution_count": 10
    },
    {
      "id": "218d0dd6-b90d-4a9e-9736-74a458c86ee4",
      "cell_type": "markdown",
      "source": "This will convert 200 minutes to hours by diving by 60.",
      "metadata": {}
    },
    {
      "id": "1cbd132e-1caf-491d-a37e-cb578438ab20",
      "cell_type": "code",
      "source": "200/60",
      "metadata": {
        "trusted": true
      },
      "outputs": [
        {
          "execution_count": 13,
          "output_type": "execute_result",
          "data": {
            "text/plain": "3.3333333333333335"
          },
          "metadata": {}
        }
      ],
      "execution_count": 13
    },
    {
      "id": "f081bac5-1287-4c53-8dd0-c7873861cc1f",
      "cell_type": "markdown",
      "source": "## Author\nLeandro Gomes Ferreira",
      "metadata": {}
    },
    {
      "id": "c43edad4-8a12-4469-8d59-b1e79ca0f6b9",
      "cell_type": "code",
      "source": "",
      "metadata": {
        "trusted": true
      },
      "outputs": [],
      "execution_count": null
    }
  ]
}